{
  "nbformat": 4,
  "nbformat_minor": 0,
  "metadata": {
    "colab": {
      "name": "Sentence generation Code",
      "provenance": []
    },
    "kernelspec": {
      "name": "python3",
      "display_name": "Python 3"
    },
    "language_info": {
      "name": "python"
    }
  },
  "cells": [
    {
      "cell_type": "code",
      "metadata": {
        "id": "S49tUI1zkPQm"
      },
      "source": [
        "import json\n",
        "  \n",
        "with open('Final_1_Transpose.json') as json_file:\n",
        "    data = json.load(json_file)\n",
        "\n",
        "#i = str(3)\n",
        "#param = data['parameter'][i]\n",
        "#dev = data['% of deviation'][i]\n",
        "#dev = dev -100\n",
        "#value = data['parameter_value'][i]\n",
        "#pid = data['product_id'][i]\n",
        "#sid = data['store_id'][i]\n",
        "#month = data['Greg_Month'][i]\n",
        "#year = data['Greg_Year'][i]\n",
        "#reason = data['Reason'][i]\n",
        "\n",
        "for i in data:\n",
        "  data[i][\"deviation\"] = data[i].pop('% of deviation')\n",
        "  data[i][\"deviation\"] = data[i][\"deviation\"] -100\n",
        "  if data[\"H/L\"] == 'H':\n",
        "    data[i][\"change\"] = 'increased'\n",
        "  else:\n",
        "    data[i][\"change\"] = 'decreased'\n",
        "\n"
      ],
      "execution_count": null,
      "outputs": []
    },
    {
      "cell_type": "code",
      "metadata": {
        "colab": {
          "base_uri": "https://localhost:8080/"
        },
        "id": "t3fs0uNQP81G",
        "outputId": "c703c552-31fb-4548-d6c5-a3e5b0cec169"
      },
      "source": [
        "from string import Template\n",
        "\n",
        "t1 = Template('$parameter has $change by $deviation% from the mean $parameter to $parameter_value \\\n",
        "               in the store with id $store_id\\\n",
        "               during $Greg_Month $Greg_Year.\\\n",
        "               This could be due to the products being in hierarchy with id $Reason')\n",
        "s = t1.substitute(**data[\"0\"])\n",
        "print(s)  "
      ],
      "execution_count": null,
      "outputs": [
        {
          "output_type": "stream",
          "text": [
            "sales has increased by 105.36262669519999% from the mean sales to 8284.916 in the store with id S0001 during August 2018.This could be due to the products being in hierarchy with id H0000\n"
          ],
          "name": "stdout"
        }
      ]
    }
  ]
}